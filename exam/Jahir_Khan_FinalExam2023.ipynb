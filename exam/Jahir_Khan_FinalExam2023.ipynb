{
  "cells": [
    {
      "cell_type": "markdown",
      "metadata": {
        "id": "nENhrhyUSyCD"
      },
      "source": [
        "**1.Increasing Training Set Size Experiment: Consider the iris dataset for multiclass classification and perform**\n",
        "the following steps.\n",
        "  1. Divide the data into 80% training and 20% testing.\n",
        "  2. From the training set only take 5% of the data and train the supervised learning models (Logistic Regression,\n",
        "Decision Trees, Random Forest, and Naive Bayes) and test it on the test set created in the previous step.\n",
        "  3. Repeat the training again with now 10% of the data and keep on adding the 5% until you use the whole training\n",
        "set.\n",
        "  4. In every training test on the 20% of the test set and report the accuracy and f1-score of the model.\n",
        "  5. Plot the sample graph for accuracy and f1-score as provided below:\n"
      ]
    },
    {
      "cell_type": "code",
      "execution_count": 35,
      "metadata": {
        "id": "bSZ6h3s8PbYR"
      },
      "outputs": [],
      "source": [
        "# Importing necessary libraries\n",
        "import pandas as pd\n",
        "import numpy as np\n",
        "from sklearn.datasets import load_iris\n",
        "from sklearn.model_selection import train_test_split\n",
        "from sklearn.linear_model import LogisticRegression\n",
        "from sklearn.tree import DecisionTreeClassifier\n",
        "from sklearn.ensemble import RandomForestClassifier\n",
        "from sklearn.naive_bayes import GaussianNB\n",
        "from sklearn.metrics import accuracy_score, f1_score\n",
        "import matplotlib.pyplot as plt\n",
        "\n",
        "# Loading the iris dataset\n",
        "iris = load_iris()\n",
        "X = iris.data\n",
        "y = iris.target"
      ]
    },
    {
      "cell_type": "code",
      "execution_count": 36,
      "metadata": {
        "id": "hYpa2bEFQmJd"
      },
      "outputs": [],
      "source": [
        "# Splitting the data into training and testing sets\n",
        "X_train, X_test, y_train, y_test = train_test_split(X, y, test_size=0.2, random_state=42)\n",
        "\n",
        "# Defining the models to be trained\n",
        "models = [LogisticRegression(), DecisionTreeClassifier(), RandomForestClassifier(), GaussianNB()]"
      ]
    },
    {
      "cell_type": "code",
      "execution_count": 37,
      "metadata": {
        "colab": {
          "base_uri": "https://localhost:8080/",
          "height": 0
        },
        "id": "X80OMsCjQow8",
        "outputId": "9cc4bad6-954b-4d6c-c597-b001a54bca6c"
      },
      "outputs": [
        {
          "name": "stdout",
          "output_type": "stream",
          "text": [
            "Training with 5% of the data\n",
            "LogisticRegression accuracy: 0.73\n",
            "DecisionTreeClassifier accuracy: 0.83\n",
            "RandomForestClassifier accuracy: 0.80\n",
            "GaussianNB accuracy: 0.33\n",
            "Training with 10% of the data\n",
            "LogisticRegression accuracy: 0.83, f1-score: 0.76\n",
            "DecisionTreeClassifier accuracy: 1.00, f1-score: 1.00\n",
            "RandomForestClassifier accuracy: 0.83, f1-score: 0.84\n",
            "GaussianNB accuracy: 0.83, f1-score: 0.77\n",
            "Training with 15% of the data\n",
            "LogisticRegression accuracy: 1.00, f1-score: 1.00\n",
            "DecisionTreeClassifier accuracy: 1.00, f1-score: 1.00\n",
            "RandomForestClassifier accuracy: 1.00, f1-score: 1.00\n",
            "GaussianNB accuracy: 0.83, f1-score: 0.76\n",
            "Training with 20% of the data\n",
            "LogisticRegression accuracy: 1.00, f1-score: 1.00\n",
            "DecisionTreeClassifier accuracy: 1.00, f1-score: 1.00\n",
            "RandomForestClassifier accuracy: 1.00, f1-score: 1.00\n",
            "GaussianNB accuracy: 1.00, f1-score: 1.00\n",
            "Training with 25% of the data\n",
            "LogisticRegression accuracy: 1.00, f1-score: 1.00\n",
            "DecisionTreeClassifier accuracy: 1.00, f1-score: 1.00\n",
            "RandomForestClassifier accuracy: 1.00, f1-score: 1.00\n",
            "GaussianNB accuracy: 1.00, f1-score: 1.00\n",
            "Training with 30% of the data\n",
            "LogisticRegression accuracy: 1.00, f1-score: 1.00\n",
            "DecisionTreeClassifier accuracy: 0.83, f1-score: 0.84\n",
            "RandomForestClassifier accuracy: 1.00, f1-score: 1.00\n",
            "GaussianNB accuracy: 1.00, f1-score: 1.00\n",
            "Training with 35% of the data\n",
            "LogisticRegression accuracy: 1.00, f1-score: 1.00\n",
            "DecisionTreeClassifier accuracy: 0.83, f1-score: 0.84\n",
            "RandomForestClassifier accuracy: 1.00, f1-score: 1.00\n",
            "GaussianNB accuracy: 1.00, f1-score: 1.00\n",
            "Training with 40% of the data\n",
            "LogisticRegression accuracy: 1.00, f1-score: 1.00\n",
            "DecisionTreeClassifier accuracy: 0.83, f1-score: 0.84\n",
            "RandomForestClassifier accuracy: 0.83, f1-score: 0.84\n",
            "GaussianNB accuracy: 1.00, f1-score: 1.00\n",
            "Training with 45% of the data\n",
            "LogisticRegression accuracy: 1.00, f1-score: 1.00\n",
            "DecisionTreeClassifier accuracy: 0.83, f1-score: 0.84\n",
            "RandomForestClassifier accuracy: 0.83, f1-score: 0.84\n",
            "GaussianNB accuracy: 1.00, f1-score: 1.00\n",
            "Training with 50% of the data\n",
            "LogisticRegression accuracy: 1.00, f1-score: 1.00\n",
            "DecisionTreeClassifier accuracy: 1.00, f1-score: 1.00\n",
            "RandomForestClassifier accuracy: 1.00, f1-score: 1.00\n",
            "GaussianNB accuracy: 1.00, f1-score: 1.00\n",
            "Training with 55% of the data\n",
            "LogisticRegression accuracy: 1.00, f1-score: 1.00\n",
            "DecisionTreeClassifier accuracy: 1.00, f1-score: 1.00\n",
            "RandomForestClassifier accuracy: 1.00, f1-score: 1.00\n",
            "GaussianNB accuracy: 1.00, f1-score: 1.00\n",
            "Training with 60% of the data\n",
            "LogisticRegression accuracy: 1.00, f1-score: 1.00\n",
            "DecisionTreeClassifier accuracy: 0.83, f1-score: 0.84\n",
            "RandomForestClassifier accuracy: 1.00, f1-score: 1.00\n",
            "GaussianNB accuracy: 1.00, f1-score: 1.00\n",
            "Training with 65% of the data\n"
          ]
        },
        {
          "name": "stderr",
          "output_type": "stream",
          "text": [
            "/usr/local/lib/python3.9/dist-packages/sklearn/linear_model/_logistic.py:458: ConvergenceWarning: lbfgs failed to converge (status=1):\n",
            "STOP: TOTAL NO. of ITERATIONS REACHED LIMIT.\n",
            "\n",
            "Increase the number of iterations (max_iter) or scale the data as shown in:\n",
            "    https://scikit-learn.org/stable/modules/preprocessing.html\n",
            "Please also refer to the documentation for alternative solver options:\n",
            "    https://scikit-learn.org/stable/modules/linear_model.html#logistic-regression\n",
            "  n_iter_i = _check_optimize_result(\n"
          ]
        },
        {
          "name": "stdout",
          "output_type": "stream",
          "text": [
            "LogisticRegression accuracy: 1.00, f1-score: 1.00\n",
            "DecisionTreeClassifier accuracy: 1.00, f1-score: 1.00\n",
            "RandomForestClassifier accuracy: 1.00, f1-score: 1.00\n",
            "GaussianNB accuracy: 1.00, f1-score: 1.00\n",
            "Training with 70% of the data\n"
          ]
        },
        {
          "name": "stderr",
          "output_type": "stream",
          "text": [
            "/usr/local/lib/python3.9/dist-packages/sklearn/linear_model/_logistic.py:458: ConvergenceWarning: lbfgs failed to converge (status=1):\n",
            "STOP: TOTAL NO. of ITERATIONS REACHED LIMIT.\n",
            "\n",
            "Increase the number of iterations (max_iter) or scale the data as shown in:\n",
            "    https://scikit-learn.org/stable/modules/preprocessing.html\n",
            "Please also refer to the documentation for alternative solver options:\n",
            "    https://scikit-learn.org/stable/modules/linear_model.html#logistic-regression\n",
            "  n_iter_i = _check_optimize_result(\n",
            "/usr/local/lib/python3.9/dist-packages/sklearn/linear_model/_logistic.py:458: ConvergenceWarning: lbfgs failed to converge (status=1):\n",
            "STOP: TOTAL NO. of ITERATIONS REACHED LIMIT.\n",
            "\n",
            "Increase the number of iterations (max_iter) or scale the data as shown in:\n",
            "    https://scikit-learn.org/stable/modules/preprocessing.html\n",
            "Please also refer to the documentation for alternative solver options:\n",
            "    https://scikit-learn.org/stable/modules/linear_model.html#logistic-regression\n",
            "  n_iter_i = _check_optimize_result(\n"
          ]
        },
        {
          "name": "stdout",
          "output_type": "stream",
          "text": [
            "LogisticRegression accuracy: 1.00, f1-score: 1.00\n",
            "DecisionTreeClassifier accuracy: 1.00, f1-score: 1.00\n",
            "RandomForestClassifier accuracy: 1.00, f1-score: 1.00\n",
            "GaussianNB accuracy: 1.00, f1-score: 1.00\n",
            "Training with 75% of the data\n",
            "LogisticRegression accuracy: 1.00, f1-score: 1.00\n",
            "DecisionTreeClassifier accuracy: 1.00, f1-score: 1.00\n",
            "RandomForestClassifier accuracy: 1.00, f1-score: 1.00\n",
            "GaussianNB accuracy: 1.00, f1-score: 1.00\n",
            "Training with 80% of the data\n",
            "LogisticRegression accuracy: 1.00, f1-score: 1.00\n",
            "DecisionTreeClassifier accuracy: 1.00, f1-score: 1.00\n",
            "RandomForestClassifier accuracy: 1.00, f1-score: 1.00\n",
            "GaussianNB accuracy: 1.00, f1-score: 1.00\n",
            "Training with 85% of the data\n",
            "LogisticRegression accuracy: 1.00, f1-score: 1.00\n",
            "DecisionTreeClassifier accuracy: 1.00, f1-score: 1.00\n",
            "RandomForestClassifier accuracy: 1.00, f1-score: 1.00\n",
            "GaussianNB accuracy: 1.00, f1-score: 1.00\n",
            "Training with 90% of the data\n",
            "LogisticRegression accuracy: 1.00, f1-score: 1.00\n",
            "DecisionTreeClassifier accuracy: 1.00, f1-score: 1.00\n",
            "RandomForestClassifier accuracy: 1.00, f1-score: 1.00\n",
            "GaussianNB accuracy: 1.00, f1-score: 1.00\n",
            "Training with 95% of the data\n"
          ]
        },
        {
          "name": "stderr",
          "output_type": "stream",
          "text": [
            "/usr/local/lib/python3.9/dist-packages/sklearn/linear_model/_logistic.py:458: ConvergenceWarning: lbfgs failed to converge (status=1):\n",
            "STOP: TOTAL NO. of ITERATIONS REACHED LIMIT.\n",
            "\n",
            "Increase the number of iterations (max_iter) or scale the data as shown in:\n",
            "    https://scikit-learn.org/stable/modules/preprocessing.html\n",
            "Please also refer to the documentation for alternative solver options:\n",
            "    https://scikit-learn.org/stable/modules/linear_model.html#logistic-regression\n",
            "  n_iter_i = _check_optimize_result(\n"
          ]
        },
        {
          "name": "stdout",
          "output_type": "stream",
          "text": [
            "LogisticRegression accuracy: 1.00, f1-score: 1.00\n",
            "DecisionTreeClassifier accuracy: 1.00, f1-score: 1.00\n",
            "RandomForestClassifier accuracy: 1.00, f1-score: 1.00\n",
            "GaussianNB accuracy: 1.00, f1-score: 1.00\n",
            "Training with 100% of the data\n",
            "LogisticRegression accuracy: 1.00, f1-score: 1.00\n",
            "DecisionTreeClassifier accuracy: 1.00, f1-score: 1.00\n",
            "RandomForestClassifier accuracy: 1.00, f1-score: 1.00\n",
            "GaussianNB accuracy: 1.00, f1-score: 1.00\n"
          ]
        },
        {
          "name": "stderr",
          "output_type": "stream",
          "text": [
            "/usr/local/lib/python3.9/dist-packages/sklearn/linear_model/_logistic.py:458: ConvergenceWarning: lbfgs failed to converge (status=1):\n",
            "STOP: TOTAL NO. of ITERATIONS REACHED LIMIT.\n",
            "\n",
            "Increase the number of iterations (max_iter) or scale the data as shown in:\n",
            "    https://scikit-learn.org/stable/modules/preprocessing.html\n",
            "Please also refer to the documentation for alternative solver options:\n",
            "    https://scikit-learn.org/stable/modules/linear_model.html#logistic-regression\n",
            "  n_iter_i = _check_optimize_result(\n"
          ]
        }
      ],
      "source": [
        "# Initializing the lists to store the scores\n",
        "acc_scores = []\n",
        "f1_scores = []\n",
        "\n",
        "# Looping through different percentages of the training data\n",
        "for i in range(5, 105, 5):\n",
        "    # Selecting i% of the training data\n",
        "    n_samples = int(X_train.shape[0] * i / 100)\n",
        "    X_train_subset = X_train[:n_samples, :]\n",
        "    y_train_subset = y_train[:n_samples]\n",
        "    print(f'Training with {i}% of the data')\n",
        "    # Training the models on the subset of the training data\n",
        "    if i == 5:\n",
        "        for model in models:\n",
        "            model.fit(X_train_subset, y_train_subset)\n",
        "            \n",
        "            # Testing the models on the test set\n",
        "            y_pred = model.predict(X_test)\n",
        "            acc = accuracy_score(y_test, y_pred)\n",
        "            f1 = f1_score(y_test, y_pred, average='weighted')\n",
        "            \n",
        "            # Storing the scores\n",
        "            acc_scores.append(acc)\n",
        "            f1_scores.append(f1)\n",
        "            print(f'{type(model).__name__} accuracy: {acc:.2f}')\n",
        "    else:\n",
        "        for model in models:\n",
        "            model.fit(X_train_subset, y_train_subset)\n",
        "            \n",
        "            # Testing the models on the 20% of the test set\n",
        "            n_test_samples = int(X_test.shape[0] * 0.2)\n",
        "            X_test_subset = X_test[:n_test_samples, :]\n",
        "            y_test_subset = y_test[:n_test_samples]\n",
        "            y_pred = model.predict(X_test_subset)\n",
        "            acc = accuracy_score(y_test_subset, y_pred)\n",
        "            f1 = f1_score(y_test_subset, y_pred, average='weighted')\n",
        "            \n",
        "            # Storing the scores\n",
        "            acc_scores.append(acc)\n",
        "            f1_scores.append(f1)\n",
        "            print(f'{type(model).__name__} accuracy: {acc:.2f}, f1-score: {f1:.2f}')"
      ]
    },
    {
      "cell_type": "code",
      "execution_count": 42,
      "metadata": {
        "colab": {
          "base_uri": "https://localhost:8080/",
          "height": 472
        },
        "id": "zzRkwtTbQvSq",
        "outputId": "785a68c8-fd14-4568-e774-9ba0c1e478e6"
      },
      "outputs": [
        {
          "data": {
            "image/png": "[encoded data removed]",
            "text/plain": [
              "<Figure size 640x480 with 1 Axes>"
            ]
          },
          "metadata": {},
          "output_type": "display_data"
        }
      ],
      "source": [
        "# Creating the x-axis for the plot\n",
        "x = np.arange(5, 105, 5)\n",
        "\n",
        "# Reshaping the scores into a 2D array for plotting\n",
        "acc_scores = np.array(acc_scores).reshape(-1, 4)\n",
        "f1_scores = np.array(f1_scores).reshape(-1, 4)\n",
        "\n",
        "# Plotting the accuracy scores\n",
        "plt.plot(x, f1_scores[:, 0], label='Logistic Regression')\n",
        "plt.plot(x, f1_scores[:, 1], label='Decision Tree')\n",
        "plt.plot(x, f1_scores[:, 2], label='Random Forest')\n",
        "plt.plot(x, f1_scores[:, 3], label='Naive Bayes')\n",
        "plt.xlabel('% of training data')\n",
        "plt.ylabel('Accuracy')\n",
        "plt.title('Accuracy')\n",
        "plt.legend()\n",
        "plt.show()\n"
      ]
    },
    {
      "cell_type": "code",
      "execution_count": 43,
      "metadata": {
        "colab": {
          "base_uri": "https://localhost:8080/",
          "height": 472
        },
        "id": "aTvO73onRoVX",
        "outputId": "07f0ba18-22d9-40d1-aa0e-c3b4b2db0519"
      },
      "outputs": [
        {
          "data": {
            "image/png": "[encoded data removed]",
            "text/plain": [
              "<Figure size 640x480 with 1 Axes>"
            ]
          },
          "metadata": {},
          "output_type": "display_data"
        }
      ],
      "source": [
        "# Plotting the accuracy scores\n",
        "plt.plot(x, acc_scores[:, 0], label='Logistic Regression')\n",
        "plt.plot(x, acc_scores[:, 1], label='Decision Tree')\n",
        "plt.plot(x, acc_scores[:, 2], label='Random Forest')\n",
        "plt.plot(x, acc_scores[:, 3], label='Naive Bayes')\n",
        "plt.xlabel('% of training data')\n",
        "plt.ylabel('F1-score')\n",
        "plt.title('F1-score vs. % of Training Data')\n",
        "plt.legend()\n",
        "plt.show()"
      ]
    },
    {
      "cell_type": "code",
      "execution_count": null,
      "metadata": {
        "id": "4IqsIA4sRm-k"
      },
      "outputs": [],
      "source": []
    },
    {
      "cell_type": "markdown",
      "metadata": {
        "id": "7p5-XO68TGhK"
      },
      "source": [
        "2. (30 Points) Linear Regression: Consider the following N data points (N=10)\n",
        "\n",
        "  X = [ −1.4 , −1.6 , −1.3 , 0 . 2 , 2 . 0 , −1.1 , 0 . 0 , 0 . 3 , −0.9 , −1.8]\n",
        "  \n",
        "  r = [ 6 . 9 , 7 . 8 , 8 . 0 , 5 . 8 , 1 . 9 , 7 . 3 , 5 . 8 , 5 . 8 , 8 . 2 , 9 . 6 ]\n",
        "\n",
        "  Note that these data points are ordered, so that (X1,r1) = (−1.3,6.9) and (X10,r10) = (−1.8,9.6). For the above data\n",
        "points, fit a linear regression model, f(x) = w0 +w1x, by estimating the values of w0 and w1, so that ri = f(Xi) +εi\n",
        ".\n",
        "\n",
        "Hint: w0 = r¯−w1X¯, w1 =\n",
        "∑\n",
        "N\n",
        "i=1 Xiri −X¯rN¯\n",
        "∑\n",
        "N\n",
        "i=1\n",
        "(Xi)\n",
        "2 −N(X¯)\n",
        "2\n",
        "where r¯ =\n",
        "1\n",
        "N\n",
        "N\n",
        "∑\n",
        "i=1\n",
        "ri\n",
        ", X¯ =\n",
        "1\n",
        "N\n",
        "N\n",
        "∑\n",
        "i=1\n",
        "Xi"
      ]
    },
    {
      "attachments": {},
      "cell_type": "markdown",
      "metadata": {
        "id": "91zJcquGVh6Y"
      },
      "source": []
    },
    {
      "cell_type": "code",
      "execution_count": 47,
      "metadata": {
        "id": "aESNSOPuUZ-8"
      },
      "outputs": [],
      "source": [
        "import numpy as np\n",
        "\n",
        "# Define the training data set\n",
        "X = np.array([-1.4, -1.6, -1.3, 0.2, 2.0, -1.1, 0.0, 0.3, -0.9, -1.8])\n",
        "r = np.array([6.9, 7.8, 8.0, 5.8, 1.9, 7.3, 5.8, 5.8, 8.2, 9.6])"
      ]
    },
    {
      "cell_type": "code",
      "execution_count": 48,
      "metadata": {
        "id": "97TnNMnOUd3o"
      },
      "outputs": [],
      "source": [
        "# Define the function to compute w0 and w1\n",
        "def compute_w(X, r):\n",
        "    # Compute the number of data points\n",
        "    N = len(X)\n",
        "    # Compute the mean of the response variable\n",
        "    r_mean = np.mean(r)\n",
        "    # Compute the mean of the predictor variable\n",
        "    X_mean = np.mean(X)\n",
        "    # Compute the numerator of the slope\n",
        "    numerator = np.sum(X * r) - N * X_mean * r_mean\n",
        "    # Compute the denominator of the slope\n",
        "    denominator = np.sum(X**2) - N * X_mean**2\n",
        "    # Compute the slope\n",
        "    w1 = numerator / denominator\n",
        "    # Compute the intercept\n",
        "    w0 = r_mean - w1 * X_mean\n",
        "    return w0, w1"
      ]
    },
    {
      "cell_type": "code",
      "execution_count": 49,
      "metadata": {
        "id": "fBX6VglrUgwv"
      },
      "outputs": [],
      "source": [
        "# Compute w0 and w1\n",
        "w0, w1 = compute_w(X, r)\n",
        "\n",
        "# Define the linear regression model\n",
        "f = lambda x: w0 + w1 * x\n",
        "\n",
        "# Compute RMSE and MAE for the training data set\n",
        "ei = f(X) - r\n",
        "RMSE = np.sqrt(np.mean(ei**2))\n",
        "MAE = np.median(np.abs(ei))"
      ]
    },
    {
      "cell_type": "code",
      "execution_count": 50,
      "metadata": {
        "colab": {
          "base_uri": "https://localhost:8080/",
          "height": 0
        },
        "id": "5yutCg5-Uk-i",
        "outputId": "82d436be-49b9-40f2-9458-74fb84bc5ee5"
      },
      "outputs": [
        {
          "name": "stdout",
          "output_type": "stream",
          "text": [
            "Linear Regression Model:\n",
            "w0 = 5.768549422336327\n",
            "w1 = -1.6811617458279855\n",
            "RMSE for the training data set = 0.648223478278935\n",
            "MAE for the training data set = 0.5210125160462125\n"
          ]
        }
      ],
      "source": [
        "# Print the results\n",
        "print(\"Linear Regression Model:\")\n",
        "print(\"w0 =\", w0)\n",
        "print(\"w1 =\", w1)\n",
        "print(\"RMSE for the training data set =\", RMSE)\n",
        "print(\"MAE for the training data set =\", MAE)"
      ]
    },
    {
      "cell_type": "code",
      "execution_count": 51,
      "metadata": {
        "id": "pFF8g6L-Uwzp"
      },
      "outputs": [],
      "source": [
        "# Define the test data set\n",
        "Z = np.array([-0.6, 1.8, -0.1, 1.1, -1.7])\n",
        "\n",
        "# Compute the predictions for the test data set\n",
        "predictions = f(Z)\n",
        "\n",
        "# Define the true labels for the test data set\n",
        "u = np.array([5.1, -0.2, 6.5, 2.2, 8.3])\n"
      ]
    },
    {
      "cell_type": "code",
      "execution_count": 53,
      "metadata": {
        "colab": {
          "base_uri": "https://localhost:8080/",
          "height": 0
        },
        "id": "_fyALMWrU1Cn",
        "outputId": "e8075c58-5f8b-4ab9-c5db-4c2418865bdd"
      },
      "outputs": [
        {
          "name": "stdout",
          "output_type": "stream",
          "text": [
            "Predictions for the test data set: [6.77724647 2.74245828 5.9366656  3.9192715  8.62652439]\n"
          ]
        }
      ],
      "source": [
        "# Compute RMSE and MAE for the test data set\n",
        "ei = predictions - u\n",
        "RMSE = np.sqrt(np.mean(ei**2))\n",
        "MAE = np.median(np.abs(ei))\n",
        "\n",
        "# Print the results\n",
        "print(\"Predictions for the test data set:\", predictions)"
      ]
    },
    {
      "cell_type": "code",
      "execution_count": 54,
      "metadata": {
        "colab": {
          "base_uri": "https://localhost:8080/",
          "height": 0
        },
        "id": "JNmiPAI7VZas",
        "outputId": "5330bc8b-7510-40c4-dc11-56da9b2bd83b"
      },
      "outputs": [
        {
          "name": "stdout",
          "output_type": "stream",
          "text": [
            "RMSE for the test data set = 1.7234311575258012\n",
            "MAE for the test data set = 1.6772464698331184\n"
          ]
        }
      ],
      "source": [
        "print(\"RMSE for the test data set =\", RMSE)\n",
        "print(\"MAE for the test data set =\", MAE)"
      ]
    },
    {
      "cell_type": "markdown",
      "metadata": {
        "id": "pfhiY-fzVoRB"
      },
      "source": []
    },
    {
      "cell_type": "markdown",
      "metadata": {
        "id": "C4fimkRcV57d"
      },
      "source": [
        "**3. Consider the 30 data points and their corresponding class labels stored in a dictionary named “data_dict”.**\n",
        "\n",
        "d a t a_dic t = { ( 2 . 0 , 3. 4 3 , 4 . 3 7 ) : 2 , ( 2 . 4 9 , 4. 2 8 , 4 . 8 3 ) : 2 , ( 2 . 5 8 , 4. 3 6 , 4 . 4 8 ) : 2 , ( 2 . 6 6 , 4. 4 5 , 5 . 9 5 ): 2 ,\n",
        "( 2 . 8 2 , 3. 6 6 , 4 . 5 1 ) : 2 , ( 3 . 0 3 , 4. 3 7 , 5 . 0 7 ) : 2 , ( 3 . 2 7 , 4. 5 4 , 4 . 5 7 ) : 2 , ( 3 . 4 1 , 3. 9 4 , 5 . 3 5 ) : 2 ,\n",
        "( 3 . 5 3 , 4. 3 2 , 5 . 4 1 ) : 2 , ( 3 . 5 3 , 4 . 6 , 6 . 8 ) : 1 , ( 3 . 6 1 , 4. 2 5 , 5 . 2 1 ) : 1 , ( 3 . 6 1 , 4. 7 8 , 5 . 4 7 ) : 1 ,\n",
        "( 3 . 7 2 , 5. 4 4 , 5 . 8 8 ) : 1 , ( 3 . 8 7 , 4. 9 6 , 4 . 5 2 ) : 2 , ( 4 . 1 3 , 5. 2 9 , 6 . 6 ) : 1 , ( 4 . 2 5 , 5. 9 7 , 5 . 4 8 ) : 1 ,\n",
        "( 4 . 6 1 , 4 . 9 , 5 . 1 1 ) : 1 , ( 4 . 7 3 , 4 . 4 , 6 . 7 8 ) : 1 , ( 4 . 9 7 , 4. 2 5 , 5 . 0 ) : 1 , ( 4 . 9 8 , 5. 2 7 , 6 . 7 9 ) : 1 ,\n",
        "( 5 . 0 8 , 3. 5 1 , 4 . 6 9 ) : 3 , ( 5 . 1 5 , 3. 5 8 , 4 . 2 ) : 3 , ( 5 . 6 7 , 2. 2 7 , 4 . 6 5 ) : 3 , ( 5 . 6 7 , 3. 8 1 , 5 . 7 5 ) : 3 ,\n",
        "( 5 . 9 4 , 2. 3 4 , 4 . 1 2 ) : 3 , ( 6 . 0 6 , 3. 1 6 , 4 . 3 6 ) : 3 , ( 6 . 0 9 , 3. 1 9 , 4 . 0 2 ) : 3 , ( 6 . 4 3 , 3. 4 2 , 4 . 1 8 ) : 3 ,\n",
        "( 6 . 5 6 , 2 . 7 , 4 . 0 3 ) : 3 , ( 6 . 7 9 , 3. 4 6 , 4 . 8 1 ) : 3}\n",
        "\n",
        "For instance, the first point has coordinates (x1, x2, x3) = (2.0,3.43,4.37)and belongs to class 2. In total we have threeclasses: 1, 2, and 3.\n",
        "\n",
        "As a discriminant function, consider a distance function based on below center coordinates (encoded as a dictionary of\n",
        "values) for each class labels\n",
        "\n",
        "\n",
        "\n",
        "centers_dict={}\n",
        "centers_dict [(3,4,5)] = 1 # center coordinates for class 1 , i.e . , c1 =4, c2 =5, c3=6\n",
        "\n",
        "centers_dict [(4,5,6)] = 2 # center coordinates for class 2 , i.e . , c1 =3, c2 =4, c3=5\n",
        "\n",
        "centers_dict [(6,3,5)] = 3 # center coordinates for class 3 ,i.e . , c1 =6, c2 =3, c3=5\n",
        "\n",
        "Note that a discriminant function based on Minkowski distance can be written as\n",
        "g(x) = (\n",
        "n\n",
        "∑\n",
        "i=1\n",
        "|ci −xi\n",
        "|\n",
        "p\n",
        ")\n",
        "1/p where xi = (x1, x2, x3), ci = (c1, c2, c3)\n",
        "\n",
        "\n",
        "Based on above discriminant functions, perform a K-Means Clustering task over 30 points in data_dict and then compare it with true labels. What is the number of correctly classified instances for each value of p in distance measure?\n"
      ]
    },
    {
      "cell_type": "markdown",
      "metadata": {
        "id": "EjDRIqi2ewXv"
      },
      "source": []
    },
    {
      "cell_type": "code",
      "execution_count": 58,
      "metadata": {
        "id": "3Cpt6bPfev1D"
      },
      "outputs": [],
      "source": [
        "data_dict = {(2.0, 3.43, 4.37): 2, (2.49, 4.28, 4.83): 2, (2.58, 4.36, 4.48): 2, (2.66, 4.45, 5.95): 2,\n",
        "(2.82, 3.66, 4.51): 2, (3.03, 4.37, 5.07): 2, (3.27, 4.54, 4.57): 2, (3.41, 3.94, 5.35): 2,\n",
        "(3.53, 4.32, 5.41): 2, (3.53, 4.6, 6.8): 1, (3.61, 4.25, 5.21): 1, (3.61, 4.78, 5.47): 1,\n",
        "(3.72, 5.44, 5.88): 1, (3.87, 4.96, 4.52): 2, (4.13, 5.29, 6.6): 1, (4.25, 5.97, 5.48): 1,\n",
        "(4.61, 4.9, 5.11): 1, (4.73, 4.4, 6.78): 1, (4.97, 4.25, 5.0): 1, (4.98, 5.27, 6.79): 1,\n",
        "(5.08, 3.51, 4.69): 3, (5.15, 3.58, 4.2): 3, (5.67, 2.27, 4.65): 3, (5.67, 3.81, 5.75): 3,\n",
        "(5.94, 2.34, 4.12): 3, (6.06, 3.16, 4.36): 3, (6.09, 3.19, 4.02): 3, (6.43, 3.42, 4.18): 3,\n",
        "(6.56, 2.7, 4.03): 3, (6.79, 3.46, 4.81): 3}\n"
      ]
    },
    {
      "attachments": {},
      "cell_type": "markdown",
      "metadata": {},
      "source": [
        "**Reference: Chatgpt**"
      ]
    },
    {
      "cell_type": "code",
      "execution_count": 59,
      "metadata": {
        "colab": {
          "base_uri": "https://localhost:8080/",
          "height": 0
        },
        "id": "bB_OXOpwcoHI",
        "outputId": "faca7c53-1214-4214-d305-c5a27df12e12"
      },
      "outputs": [
        {
          "name": "stdout",
          "output_type": "stream",
          "text": [
            "Number of correctly classified instances for p=1: 13\n",
            "Number of correctly classified instances for p=2: 11\n",
            "Number of correctly classified instances for p=3: 11\n"
          ]
        }
      ],
      "source": [
        "import numpy as np\n",
        "\n",
        "# initialize cluster centers\n",
        "centers_dict = {(3, 4, 5): 1, (4, 5, 6): 2, (6, 3, 5): 3}\n",
        "centers = [np.array(coord) for coord in centers_dict.keys()]\n",
        "\n",
        "# assign each point to its nearest centroid\n",
        "def assign_clusters(data_dict, centers, p):\n",
        "    clusters = {}\n",
        "    for point, label in data_dict.items():\n",
        "        point_arr = np.array(point)\n",
        "        distances = [np.sum(np.abs(center - point_arr) ** p) ** (1/p) for center in centers]\n",
        "        nearest_cluster = np.argmin(distances) + 1\n",
        "        clusters[point] = nearest_cluster\n",
        "    return clusters\n",
        "\n",
        "# update centroids to be the mean of the points assigned to them\n",
        "def update_centers(data_dict, clusters):\n",
        "    new_centers = []\n",
        "    for i in range(1, 4):\n",
        "        cluster_points = [np.array(point) for point, label in clusters.items() if label == i]\n",
        "        if cluster_points:\n",
        "            new_center = np.mean(cluster_points, axis=0)\n",
        "        else:\n",
        "            new_center = np.zeros(3) # if no points in cluster, set center to (0,0,0)\n",
        "        new_centers.append(new_center)\n",
        "    return new_centers\n",
        "\n",
        "# perform K-Means Clustering for a given value of p\n",
        "def kmeans(data_dict, centers_dict, p):\n",
        "    centers = [np.array(coord) for coord in centers_dict.keys()]\n",
        "    while True:\n",
        "        clusters = assign_clusters(data_dict, centers, p)\n",
        "        new_centers = update_centers(data_dict, clusters)\n",
        "        if np.allclose(centers, new_centers):\n",
        "            break\n",
        "        centers = new_centers\n",
        "    return clusters\n",
        "\n",
        "# test with p=1\n",
        "clusters_p1 = kmeans(data_dict, centers_dict, 1)\n",
        "\n",
        "# count number of correctly classified instances\n",
        "correct_p1 = sum([label == true_label for (point, label), true_label in zip(clusters_p1.items(), data_dict.values())])\n",
        "print(\"Number of correctly classified instances for p=1:\", correct_p1)\n",
        "\n",
        "# test with p=2\n",
        "clusters_p2 = kmeans(data_dict, centers_dict, 2)\n",
        "\n",
        "# count number of correctly classified instances\n",
        "correct_p2 = sum([label == true_label for (point, label), true_label in zip(clusters_p2.items(), data_dict.values())])\n",
        "print(\"Number of correctly classified instances for p=2:\", correct_p2)\n",
        "\n",
        "# test with p=3\n",
        "clusters_p3 = kmeans(data_dict, centers_dict, 3)\n",
        "\n",
        "# count number of correctly classified instances\n",
        "correct_p3 = sum([label == true_label for (point, label), true_label in zip(clusters_p3.items(), data_dict.values())])\n",
        "print(\"Number of correctly classified instances for p=3:\", correct_p3)"
      ]
    }
  ],
  "metadata": {
    "colab": {
      "provenance": []
    },
    "kernelspec": {
      "display_name": "Python 3",
      "name": "python3"
    },
    "language_info": {
      "name": "python"
    }
  },
  "nbformat": 4,
  "nbformat_minor": 0
}
